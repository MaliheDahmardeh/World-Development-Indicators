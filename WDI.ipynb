{
  "nbformat": 4,
  "nbformat_minor": 0,
  "metadata": {
    "colab": {
      "provenance": [],
      "authorship_tag": "ABX9TyPtxKx5ZMlou/DnS3mZs4dS",
      "include_colab_link": true
    },
    "kernelspec": {
      "name": "python3",
      "display_name": "Python 3"
    },
    "language_info": {
      "name": "python"
    }
  },
  "cells": [
    {
      "cell_type": "markdown",
      "metadata": {
        "id": "view-in-github",
        "colab_type": "text"
      },
      "source": [
        "<a href=\"https://colab.research.google.com/github/MaliheDahmardeh/World-Development-Indicators/blob/main/WDI.ipynb\" target=\"_parent\"><img src=\"https://colab.research.google.com/assets/colab-badge.svg\" alt=\"Open In Colab\"/></a>"
      ]
    },
    {
      "cell_type": "markdown",
      "source": [
        "The \"World Development Indicators\" from the World Bank contain over a thousand annual indicators of economic development from hundreds of countries around the world that is from 1960 to 2016. This dataset contains over 1,500 indicators related to various social and economic issues across countries and regions of the world. Some of the indicators related to social policies and issues include:\n",
        "\n",
        "- Poverty headcount ratio\n",
        "- Access to improved water sources\n",
        "- Access to improved sanitation facilities\n",
        "- Infant mortality rate\n",
        "- Maternal mortality rate\n",
        "- Primary completion rate\n",
        "- Secondary completion rate\n",
        "- Tertiary completion rate\n",
        "- Unemployment rate\n",
        "- Income share held by lowest 20%\n",
        "\n",
        "There are also indicators related to crime rates and technology issues, such as:\n",
        "\n",
        "- Homicide rate\n",
        "- Intentional homicides per 100,000 people\n",
        "- Mobile cellular subscriptions per 100 people\n",
        "- Internet users per 100 people\n",
        "\n",
        "Using this dataset, one could conduct various correlation analyses between population rates and these social and economic indicators."
      ],
      "metadata": {
        "id": "T46ctroPlMTT"
      }
    },
    {
      "cell_type": "code",
      "source": [
        "import numpy as np\n",
        "import pandas as pd\n",
        "import seaborn as sb\n",
        "from plotly.subplots import make_subplots\n",
        "import matplotlib.pyplot as plt\n",
        "import plotly.express as px\n",
        "from plotly.offline import iplot, init_notebook_mode\n",
        "from plotly.offline import download_plotlyjs,init_notebook_mode, plot\n",
        "init_notebook_mode(connected=True)\n",
        "# cf.go_offline()\n",
        "import warnings\n",
        "warnings.filterwarnings('ignore')"
      ],
      "metadata": {
        "id": "6gegxVOHpdUO"
      },
      "execution_count": null,
      "outputs": []
    },
    {
      "cell_type": "markdown",
      "source": [
        "#Import DataSet"
      ],
      "metadata": {
        "id": "YyIxegk6kzdj"
      }
    },
    {
      "cell_type": "code",
      "source": [
        "from google.colab import drive\n",
        "drive.mount(\"/content/drive\", force_remount=True)\n",
        "!mkdir \"/content/drive/My Drive/data\"\n",
        "\n",
        "import os\n",
        "os.listdir('/content/drive/MyDrive/data')"
      ],
      "metadata": {
        "colab": {
          "base_uri": "https://localhost:8080/"
        },
        "id": "ngTEvuHT0bOn",
        "outputId": "39e8a242-06b4-43b1-bffb-e86486078d1c"
      },
      "execution_count": 45,
      "outputs": [
        {
          "output_type": "stream",
          "name": "stdout",
          "text": [
            "Mounted at /content/drive\n",
            "mkdir: cannot create directory ‘/content/drive/My Drive/data’: File exists\n"
          ]
        },
        {
          "output_type": "execute_result",
          "data": {
            "text/plain": [
              "['Country.csv', 'Indicators.csv']"
            ]
          },
          "metadata": {},
          "execution_count": 45
        }
      ]
    },
    {
      "cell_type": "code",
      "source": [
        "import pandas as pd\n",
        "\n",
        "path = '/content/drive/MyDrive/data/Indicators.csv'\n",
        "df = pd.read_csv(path)"
      ],
      "metadata": {
        "id": "IS-wv-Yz_mPt"
      },
      "execution_count": 46,
      "outputs": []
    },
    {
      "cell_type": "code",
      "source": [
        "df.info()"
      ],
      "metadata": {
        "colab": {
          "base_uri": "https://localhost:8080/"
        },
        "id": "jfBNK45tr1FJ",
        "outputId": "b82077c8-b642-42cc-870b-b88b28eaaed5"
      },
      "execution_count": 47,
      "outputs": [
        {
          "output_type": "stream",
          "name": "stdout",
          "text": [
            "<class 'pandas.core.frame.DataFrame'>\n",
            "RangeIndex: 5656458 entries, 0 to 5656457\n",
            "Data columns (total 6 columns):\n",
            " #   Column         Dtype  \n",
            "---  ------         -----  \n",
            " 0   CountryName    object \n",
            " 1   CountryCode    object \n",
            " 2   IndicatorName  object \n",
            " 3   IndicatorCode  object \n",
            " 4   Year           int64  \n",
            " 5   Value          float64\n",
            "dtypes: float64(1), int64(1), object(4)\n",
            "memory usage: 258.9+ MB\n"
          ]
        }
      ]
    },
    {
      "cell_type": "code",
      "source": [
        "df.isnull().sum()"
      ],
      "metadata": {
        "colab": {
          "base_uri": "https://localhost:8080/"
        },
        "id": "x7QVke5EsEwB",
        "outputId": "6bc325b4-e87a-4c47-8925-046d62be56c4"
      },
      "execution_count": 48,
      "outputs": [
        {
          "output_type": "execute_result",
          "data": {
            "text/plain": [
              "CountryName      0\n",
              "CountryCode      0\n",
              "IndicatorName    0\n",
              "IndicatorCode    0\n",
              "Year             0\n",
              "Value            0\n",
              "dtype: int64"
            ]
          },
          "metadata": {},
          "execution_count": 48
        }
      ]
    },
    {
      "cell_type": "code",
      "source": [
        "df.shape"
      ],
      "metadata": {
        "colab": {
          "base_uri": "https://localhost:8080/"
        },
        "id": "RFRZzbsTwXCN",
        "outputId": "8cc9220c-6ade-4956-8db5-700c04df9422"
      },
      "execution_count": 49,
      "outputs": [
        {
          "output_type": "execute_result",
          "data": {
            "text/plain": [
              "(5656458, 6)"
            ]
          },
          "metadata": {},
          "execution_count": 49
        }
      ]
    },
    {
      "cell_type": "code",
      "source": [
        "# How many unique country codes and indicator names are there ? \n",
        "countries = df['CountryCode'].unique().tolist()\n",
        "indicators = df['IndicatorName'].unique().tolist()\n",
        "print('How many unique country codes and indicator names are there?')\n",
        "print('Contries size: %d' % len(countries))\n",
        "print('Indicators size: %d' % len(indicators))"
      ],
      "metadata": {
        "colab": {
          "base_uri": "https://localhost:8080/"
        },
        "id": "uEMcs8TQwje-",
        "outputId": "3a89fa21-6ca1-43a9-fdfc-b063f419fa6a"
      },
      "execution_count": 51,
      "outputs": [
        {
          "output_type": "stream",
          "name": "stdout",
          "text": [
            "How many unique country codes and indicator names are there?\n",
            "Contries size: 247\n",
            "Indicators size: 1344\n"
          ]
        }
      ]
    }
  ]
}