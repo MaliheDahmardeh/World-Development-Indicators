{
  "nbformat": 4,
  "nbformat_minor": 0,
  "metadata": {
    "colab": {
      "provenance": [],
      "authorship_tag": "ABX9TyMv5nAUBpi8Gcq3qxKAv9k/",
      "include_colab_link": true
    },
    "kernelspec": {
      "name": "python3",
      "display_name": "Python 3"
    },
    "language_info": {
      "name": "python"
    }
  },
  "cells": [
    {
      "cell_type": "markdown",
      "metadata": {
        "id": "view-in-github",
        "colab_type": "text"
      },
      "source": [
        "<a href=\"https://colab.research.google.com/github/MaliheDahmardeh/World-Development-Indicators/blob/main/WDI.ipynb\" target=\"_parent\"><img src=\"https://colab.research.google.com/assets/colab-badge.svg\" alt=\"Open In Colab\"/></a>"
      ]
    },
    {
      "cell_type": "markdown",
      "source": [
        "The \"World Development Indicators\" from the World Bank contain over a thousand annual indicators of economic development from hundreds of countries around the world that is from 1960 to 2016. This dataset contains over 1,500 indicators related to various social and economic issues across countries and regions of the world. Some of the indicators related to social policies and issues include:\n",
        "\n",
        "- Poverty headcount ratio\n",
        "- Access to improved water sources\n",
        "- Access to improved sanitation facilities\n",
        "- Infant mortality rate\n",
        "- Maternal mortality rate\n",
        "- Primary completion rate\n",
        "- Secondary completion rate\n",
        "- Tertiary completion rate\n",
        "- Unemployment rate\n",
        "- Income share held by lowest 20%\n",
        "\n",
        "There are also indicators related to crime rates and technology issues, such as:\n",
        "\n",
        "- Homicide rate\n",
        "- Intentional homicides per 100,000 people\n",
        "- Mobile cellular subscriptions per 100 people\n",
        "- Internet users per 100 people\n",
        "\n",
        "Using this dataset, one could conduct various correlation analyses between population rates and these social and economic indicators."
      ],
      "metadata": {
        "id": "T46ctroPlMTT"
      }
    },
    {
      "cell_type": "code",
      "source": [
        "import numpy as np\n",
        "import pandas as pd\n",
        "import seaborn as sb\n",
        "from plotly.subplots import make_subplots\n",
        "import matplotlib.pyplot as plt\n",
        "import plotly.express as px\n",
        "from plotly.offline import iplot, init_notebook_mode\n",
        "from plotly.offline import download_plotlyjs,init_notebook_mode, plot\n",
        "init_notebook_mode(connected=True)\n",
        "# cf.go_offline()\n",
        "import warnings\n",
        "warnings.filterwarnings('ignore')"
      ],
      "metadata": {
        "id": "6gegxVOHpdUO"
      },
      "execution_count": null,
      "outputs": []
    },
    {
      "cell_type": "markdown",
      "source": [
        "#Import DataSet"
      ],
      "metadata": {
        "id": "YyIxegk6kzdj"
      }
    },
    {
      "cell_type": "code",
      "source": [
        "from google.colab import drive\n",
        "drive.mount(\"/content/drive\", force_remount=True)\n",
        "!mkdir \"/content/drive/My Drive/data\"\n",
        "\n",
        "import os\n",
        "os.listdir('/content/drive/MyDrive/data')"
      ],
      "metadata": {
        "colab": {
          "base_uri": "https://localhost:8080/"
        },
        "id": "ngTEvuHT0bOn",
        "outputId": "39e8a242-06b4-43b1-bffb-e86486078d1c"
      },
      "execution_count": 45,
      "outputs": [
        {
          "output_type": "stream",
          "name": "stdout",
          "text": [
            "Mounted at /content/drive\n",
            "mkdir: cannot create directory ‘/content/drive/My Drive/data’: File exists\n"
          ]
        },
        {
          "output_type": "execute_result",
          "data": {
            "text/plain": [
              "['Country.csv', 'Indicators.csv']"
            ]
          },
          "metadata": {},
          "execution_count": 45
        }
      ]
    },
    {
      "cell_type": "code",
      "source": [
        "import pandas as pd\n",
        "\n",
        "path = '/content/drive/MyDrive/data/Indicators.csv'\n",
        "df = pd.read_csv(path)"
      ],
      "metadata": {
        "id": "IS-wv-Yz_mPt"
      },
      "execution_count": 46,
      "outputs": []
    },
    {
      "cell_type": "code",
      "source": [
        "df.info()"
      ],
      "metadata": {
        "colab": {
          "base_uri": "https://localhost:8080/"
        },
        "id": "jfBNK45tr1FJ",
        "outputId": "b82077c8-b642-42cc-870b-b88b28eaaed5"
      },
      "execution_count": 47,
      "outputs": [
        {
          "output_type": "stream",
          "name": "stdout",
          "text": [
            "<class 'pandas.core.frame.DataFrame'>\n",
            "RangeIndex: 5656458 entries, 0 to 5656457\n",
            "Data columns (total 6 columns):\n",
            " #   Column         Dtype  \n",
            "---  ------         -----  \n",
            " 0   CountryName    object \n",
            " 1   CountryCode    object \n",
            " 2   IndicatorName  object \n",
            " 3   IndicatorCode  object \n",
            " 4   Year           int64  \n",
            " 5   Value          float64\n",
            "dtypes: float64(1), int64(1), object(4)\n",
            "memory usage: 258.9+ MB\n"
          ]
        }
      ]
    },
    {
      "cell_type": "code",
      "source": [
        "df.isnull().sum()"
      ],
      "metadata": {
        "colab": {
          "base_uri": "https://localhost:8080/"
        },
        "id": "x7QVke5EsEwB",
        "outputId": "6bc325b4-e87a-4c47-8925-046d62be56c4"
      },
      "execution_count": 48,
      "outputs": [
        {
          "output_type": "execute_result",
          "data": {
            "text/plain": [
              "CountryName      0\n",
              "CountryCode      0\n",
              "IndicatorName    0\n",
              "IndicatorCode    0\n",
              "Year             0\n",
              "Value            0\n",
              "dtype: int64"
            ]
          },
          "metadata": {},
          "execution_count": 48
        }
      ]
    },
    {
      "cell_type": "code",
      "source": [
        "# Check the columns of the dataset\n",
        "print('Columns:',df.columns)\n",
        "\n",
        "# Check the shape of the dataset\n",
        "print('Shape:', df.shape)\n",
        "\n",
        "# Check the first few rows of the dataset\n",
        "print('Head:\\n', df.head())\n",
        "\n",
        "# Check the data types of the columns\n",
        "print('Data types:\\n', df.dtypes)\n",
        "\n",
        "# Check for missing values in the dataset\n",
        "print('Missing values:\\n', df.isnull().sum())\n",
        "\n",
        "# Check basic statistics of the numerical columns\n",
        "print('Summary statistics:\\n', df.describe())"
      ],
      "metadata": {
        "colab": {
          "base_uri": "https://localhost:8080/"
        },
        "id": "RFRZzbsTwXCN",
        "outputId": "f75d9796-3f1e-4f71-a31d-bf7876797402"
      },
      "execution_count": 61,
      "outputs": [
        {
          "output_type": "stream",
          "name": "stdout",
          "text": [
            "Columns: Index(['CountryName', 'CountryCode', 'IndicatorName', 'IndicatorCode', 'Year',\n",
            "       'Value'],\n",
            "      dtype='object')\n",
            "Shape: (5656458, 6)\n",
            "Head:\n",
            "   CountryName CountryCode                                      IndicatorName  \\\n",
            "0  Arab World         ARB  Adolescent fertility rate (births per 1,000 wo...   \n",
            "1  Arab World         ARB  Age dependency ratio (% of working-age populat...   \n",
            "2  Arab World         ARB  Age dependency ratio, old (% of working-age po...   \n",
            "3  Arab World         ARB  Age dependency ratio, young (% of working-age ...   \n",
            "4  Arab World         ARB        Arms exports (SIPRI trend indicator values)   \n",
            "\n",
            "    IndicatorCode  Year         Value  \n",
            "0     SP.ADO.TFRT  1960  1.335609e+02  \n",
            "1     SP.POP.DPND  1960  8.779760e+01  \n",
            "2  SP.POP.DPND.OL  1960  6.634579e+00  \n",
            "3  SP.POP.DPND.YG  1960  8.102333e+01  \n",
            "4  MS.MIL.XPRT.KD  1960  3.000000e+06  \n",
            "Data types:\n",
            " CountryName       object\n",
            "CountryCode       object\n",
            "IndicatorName     object\n",
            "IndicatorCode     object\n",
            "Year               int64\n",
            "Value            float64\n",
            "dtype: object\n",
            "Missing values:\n",
            " CountryName      0\n",
            "CountryCode      0\n",
            "IndicatorName    0\n",
            "IndicatorCode    0\n",
            "Year             0\n",
            "Value            0\n",
            "dtype: int64\n",
            "Summary statistics:\n",
            "                Year         Value\n",
            "count  5.656458e+06  5.656458e+06\n",
            "mean   1.994464e+03  1.070501e+12\n",
            "std    1.387895e+01  4.842469e+13\n",
            "min    1.960000e+03 -9.824821e+15\n",
            "25%    1.984000e+03  5.566242e+00\n",
            "50%    1.997000e+03  6.357450e+01\n",
            "75%    2.006000e+03  1.346722e+07\n",
            "max    2.015000e+03  1.103367e+16\n"
          ]
        }
      ]
    },
    {
      "cell_type": "code",
      "source": [
        "# How many unique country codes and indicator names are there ? \n",
        "countries = df['CountryCode'].unique().tolist()\n",
        "indicators = df['IndicatorName'].unique().tolist()\n",
        "print('How many unique country codes and indicator names are there?')\n",
        "print('Contries size: %d' % len(countries))\n",
        "print('Indicators size: %d' % len(indicators))"
      ],
      "metadata": {
        "colab": {
          "base_uri": "https://localhost:8080/"
        },
        "id": "uEMcs8TQwje-",
        "outputId": "3a89fa21-6ca1-43a9-fdfc-b063f419fa6a"
      },
      "execution_count": 51,
      "outputs": [
        {
          "output_type": "stream",
          "name": "stdout",
          "text": [
            "How many unique country codes and indicator names are there?\n",
            "Contries size: 247\n",
            "Indicators size: 1344\n"
          ]
        }
      ]
    },
    {
      "cell_type": "code",
      "source": [
        "# Select two indicators for which you want to compute the correlation\n",
        "indicator1 = 'SP.DYN.LE00.IN'  # Life expectancy at birth, total (years)\n",
        "indicator2 = 'NY.GDP.PCAP.CD'  # GDP per capita (current US$)\n",
        "\n",
        "# Subset the data to include only the relevant indicators\n",
        "subset = df.loc[df['IndicatorCode'].isin([indicator1, indicator2])]\n",
        "\n",
        "# Pivot the data to have indicators as columns and countries as rows\n",
        "subset = subset.drop_duplicates(['CountryCode', 'IndicatorCode'])\n",
        "pivoted = subset.pivot(index='CountryCode', columns='IndicatorCode', values='Value')\n",
        "\n",
        "# Compute the correlation between the two indicators\n",
        "corr = pivoted.corr().loc[indicator1, indicator2]\n",
        "\n",
        "print(f\"The correlation between {indicator1} and {indicator2} is {corr:.2f}\")"
      ],
      "metadata": {
        "colab": {
          "base_uri": "https://localhost:8080/"
        },
        "id": "cQvydE1cCr1s",
        "outputId": "a5e8d1d6-7db5-4588-fc60-40fe64bd6b2d"
      },
      "execution_count": 53,
      "outputs": [
        {
          "output_type": "stream",
          "name": "stdout",
          "text": [
            "The correlation between SP.DYN.LE00.IN and NY.GDP.PCAP.CD is 0.30\n"
          ]
        }
      ]
    },
    {
      "cell_type": "markdown",
      "source": [
        "In this case, a correlation coefficient of 0.30 suggests a weak positive correlation between life expectancy and GDP per capita, but it's important to keep in mind that correlation does not imply causation."
      ],
      "metadata": {
        "id": "FNR_g1okEKyn"
      }
    },
    {
      "cell_type": "code",
      "source": [
        "subset = df[df['IndicatorName'].str.contains('poverty|access to improved|completion rate|unemployment|income share')]"
      ],
      "metadata": {
        "id": "6JxFoBkFEL-s"
      },
      "execution_count": 58,
      "outputs": []
    },
    {
      "cell_type": "code",
      "source": [
        "import matplotlib.pyplot as plt\n",
        "plt.scatter(subset[subset['IndicatorCode']=='SI.POV.DDAY']['Value'], \n",
        "            subset[subset['IndicatorCode']=='SH.H2O.SAFE.ZS']['Value'])\n",
        "plt.xlabel('Poverty headcount ratio')\n",
        "plt.ylabel('Access to improved water sources')\n",
        "plt.title('Relationship between poverty and access to water')\n",
        "plt.show()"
      ],
      "metadata": {
        "colab": {
          "base_uri": "https://localhost:8080/",
          "height": 472
        },
        "id": "Vaoa27PwFprd",
        "outputId": "acd25362-7fa7-4f78-c5ab-43ca16670f19"
      },
      "execution_count": 59,
      "outputs": [
        {
          "output_type": "display_data",
          "data": {
            "text/plain": [
              "<Figure size 640x480 with 1 Axes>"
            ],
            "image/png": "[encoded data removed]"
          },
          "metadata": {}
        }
      ]
    },
    {
      "cell_type": "code",
      "source": [
        "corr = subset[subset['IndicatorCode'].isin(['SI.POV.DDAY', 'SH.H2O.SAFE.ZS'])].pivot(index='CountryCode', columns='IndicatorCode', values='Value').corr().iloc[0,1]\n",
        "print('Correlation between poverty and access to water:', corr)"
      ],
      "metadata": {
        "id": "LTSYfJbjFwwM"
      },
      "execution_count": null,
      "outputs": []
    },
    {
      "cell_type": "code",
      "source": [
        "from sklearn.linear_model import LogisticRegression\n",
        "from sklearn.model_selection import train_test_split\n",
        "from sklearn.metrics import accuracy_score\n",
        "\n",
        "# Split the data into training and test sets\n",
        "X_train, X_test, y_train, y_test = train_test_split(subset.drop(['CountryName', 'CountryCode', 'IndicatorName', 'Year', 'Value'], axis=1), \n",
        "                                                    subset[subset['IndicatorCode']=='SI.POV.DDAY']['Value'], \n",
        "                                                    test_size=0.2, random_state=42)\n",
        "\n",
        "# Train a logistic regression model\n",
        "model = LogisticRegression()\n",
        "model.fit(X_train, y_train)\n",
        "\n",
        "# Make predictions on the test set\n",
        "y_pred = model.predict(X_test)\n",
        "\n",
        "# Evaluate the model accuracy\n",
        "accuracy = accuracy_score(y_test, y_pred)\n",
        "print('Model accuracy:', accuracy)"
      ],
      "metadata": {
        "id": "zg71UOqeF4QL"
      },
      "execution_count": null,
      "outputs": []
    },
    {
      "cell_type": "code",
      "source": [
        "subset = df[df['IndicatorName'].str.contains('poverty|access to improved|completion rate|unemployment|income share')]\n",
        "\n",
        "import matplotlib.pyplot as plt\n",
        "plt.scatter(subset[subset['IndicatorCode']=='SI.POV.DDAY']['Value'], \n",
        "            subset[subset['IndicatorCode']=='SH.H2O.SAFE.ZS']['Value'])\n",
        "plt.xlabel('Poverty headcount ratio')\n",
        "plt.ylabel('Access to improved water sources')\n",
        "plt.title('Relationship between poverty and access to water')\n",
        "plt.show()\n",
        "\n",
        "corr = subset[subset['IndicatorCode'].isin(['SI.POV.DDAY', 'SH.H2O.SAFE.ZS'])].pivot(index='CountryCode', columns='IndicatorCode', values='Value').corr().iloc[0,1]\n",
        "print('Correlation between poverty and access to water:', corr)"
      ],
      "metadata": {
        "id": "k-ZvFa36Hd4o"
      },
      "execution_count": null,
      "outputs": []
    },
    {
      "cell_type": "code",
      "source": [
        "corr = subset[subset['IndicatorCode'].isin(['SI.POV.DDAY', 'SH.STA.SMSS.ZS'])].pivot(index='CountryCode', columns='IndicatorCode', values='Value').corr().iloc[0,1]\n",
        "print('Correlation between poverty and access to improved sanitation facilities:', corr)"
      ],
      "metadata": {
        "id": "qSCfkvRsH_5f"
      },
      "execution_count": null,
      "outputs": []
    },
    {
      "cell_type": "code",
      "source": [
        "corr = subset[subset['IndicatorCode'].isin(['SL.UEM.TOTL.ZS', 'SE.PRM.CMPT.ZS'])].pivot(index='CountryCode', columns='IndicatorCode', values='Value').corr().iloc[0,1]\n",
        "print('Correlation between unemployment rate and completion rate for primary education:', corr)"
      ],
      "metadata": {
        "id": "as6lcCprIHAx"
      },
      "execution_count": null,
      "outputs": []
    }
  ]
}