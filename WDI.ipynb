{
  "nbformat": 4,
  "nbformat_minor": 0,
  "metadata": {
    "colab": {
      "provenance": [],
      "authorship_tag": "ABX9TyPmIYwICAfk9N97Ynvma0Cb",
      "include_colab_link": true
    },
    "kernelspec": {
      "name": "python3",
      "display_name": "Python 3"
    },
    "language_info": {
      "name": "python"
    }
  },
  "cells": [
    {
      "cell_type": "markdown",
      "metadata": {
        "id": "view-in-github",
        "colab_type": "text"
      },
      "source": [
        "<a href=\"https://colab.research.google.com/github/MaliheDahmardeh/World-Development-Indicators/blob/main/WDI.ipynb\" target=\"_parent\"><img src=\"https://colab.research.google.com/assets/colab-badge.svg\" alt=\"Open In Colab\"/></a>"
      ]
    },
    {
      "cell_type": "markdown",
      "source": [
        "The \"World Development Indicators\" from the World Bank contain over a thousand annual indicators of economic development from hundreds of countries around the world that is from 1960 to 2016. This dataset contains over 1,500 indicators related to various social and economic issues across countries and regions of the world. Some of the indicators related to social policies and issues include:\n",
        "\n",
        "- Poverty headcount ratio\n",
        "- Access to improved water sources\n",
        "- Access to improved sanitation facilities\n",
        "- Infant mortality rate\n",
        "- Maternal mortality rate\n",
        "- Primary completion rate\n",
        "- Secondary completion rate\n",
        "- Tertiary completion rate\n",
        "- Unemployment rate\n",
        "- Income share held by lowest 20%\n",
        "\n",
        "There are also indicators related to crime rates and technology issues, such as:\n",
        "\n",
        "- Homicide rate\n",
        "- Intentional homicides per 100,000 people\n",
        "- Mobile cellular subscriptions per 100 people\n",
        "- Internet users per 100 people\n",
        "\n",
        "Using this dataset, one could conduct various correlation analyses between population rates and these social and economic indicators."
      ],
      "metadata": {
        "id": "T46ctroPlMTT"
      }
    },
    {
      "cell_type": "code",
      "source": [
        "import numpy as np\n",
        "import pandas as pd\n",
        "import seaborn as sb\n",
        "import os\n",
        "from plotly.subplots import make_subplots\n",
        "import matplotlib.pyplot as plt\n",
        "import plotly.express as px\n",
        "from plotly.offline import iplot, init_notebook_mode\n",
        "from plotly.offline import download_plotlyjs,init_notebook_mode, plot\n",
        "init_notebook_mode(connected=True)\n",
        "# cf.go_offline()\n",
        "import warnings\n",
        "warnings.filterwarnings('ignore')"
      ],
      "metadata": {
        "id": "6gegxVOHpdUO",
        "outputId": "f08e354b-34c3-496d-9efd-c600e6724b74",
        "colab": {
          "base_uri": "https://localhost:8080/",
          "height": 17
        }
      },
      "execution_count": 1,
      "outputs": [
        {
          "output_type": "display_data",
          "data": {
            "text/html": [
              "        <script type=\"text/javascript\">\n",
              "        window.PlotlyConfig = {MathJaxConfig: 'local'};\n",
              "        if (window.MathJax && window.MathJax.Hub && window.MathJax.Hub.Config) {window.MathJax.Hub.Config({SVG: {font: \"STIX-Web\"}});}\n",
              "        if (typeof require !== 'undefined') {\n",
              "        require.undef(\"plotly\");\n",
              "        requirejs.config({\n",
              "            paths: {\n",
              "                'plotly': ['https://cdn.plot.ly/plotly-2.18.2.min']\n",
              "            }\n",
              "        });\n",
              "        require(['plotly'], function(Plotly) {\n",
              "            window._Plotly = Plotly;\n",
              "        });\n",
              "        }\n",
              "        </script>\n",
              "        "
            ]
          },
          "metadata": {}
        }
      ]
    },
    {
      "cell_type": "markdown",
      "source": [
        "#Import DataSet"
      ],
      "metadata": {
        "id": "YyIxegk6kzdj"
      }
    },
    {
      "cell_type": "code",
      "source": [
        "from google.colab import drive\n",
        "drive.mount(\"/content/drive\", force_remount=True)\n",
        "!mkdir \"/content/drive/My Drive/data\"\n",
        "os.listdir('/content/drive/MyDrive/data')"
      ],
      "metadata": {
        "colab": {
          "base_uri": "https://localhost:8080/"
        },
        "id": "ngTEvuHT0bOn",
        "outputId": "c7cc44b8-814d-4c6b-cae0-369212d8313b"
      },
      "execution_count": 2,
      "outputs": [
        {
          "output_type": "stream",
          "name": "stdout",
          "text": [
            "Mounted at /content/drive\n",
            "mkdir: cannot create directory ‘/content/drive/My Drive/data’: File exists\n"
          ]
        },
        {
          "output_type": "execute_result",
          "data": {
            "text/plain": [
              "['Country.csv', 'Indicators.csv']"
            ]
          },
          "metadata": {},
          "execution_count": 2
        }
      ]
    },
    {
      "cell_type": "code",
      "source": [
        "path = '/content/drive/MyDrive/data/Indicators.csv'\n",
        "df = pd.read_csv(path)"
      ],
      "metadata": {
        "id": "IS-wv-Yz_mPt"
      },
      "execution_count": 3,
      "outputs": []
    },
    {
      "cell_type": "code",
      "source": [
        "df"
      ],
      "metadata": {
        "id": "6nhqeIHzfFmK",
        "outputId": "6b833f68-780d-4e97-ed13-8c8d072825bd",
        "colab": {
          "base_uri": "https://localhost:8080/",
          "height": 419
        }
      },
      "execution_count": 18,
      "outputs": [
        {
          "output_type": "execute_result",
          "data": {
            "text/plain": [
              "        CountryName CountryCode  \\\n",
              "0        Arab World         ARB   \n",
              "1        Arab World         ARB   \n",
              "2        Arab World         ARB   \n",
              "3        Arab World         ARB   \n",
              "4        Arab World         ARB   \n",
              "...             ...         ...   \n",
              "5656453    Zimbabwe         ZWE   \n",
              "5656454    Zimbabwe         ZWE   \n",
              "5656455    Zimbabwe         ZWE   \n",
              "5656456    Zimbabwe         ZWE   \n",
              "5656457    Zimbabwe         ZWE   \n",
              "\n",
              "                                             IndicatorName      IndicatorCode  \\\n",
              "0        Adolescent fertility rate (births per 1,000 wo...        SP.ADO.TFRT   \n",
              "1        Age dependency ratio (% of working-age populat...        SP.POP.DPND   \n",
              "2        Age dependency ratio, old (% of working-age po...     SP.POP.DPND.OL   \n",
              "3        Age dependency ratio, young (% of working-age ...     SP.POP.DPND.YG   \n",
              "4              Arms exports (SIPRI trend indicator values)     MS.MIL.XPRT.KD   \n",
              "...                                                    ...                ...   \n",
              "5656453          Time required to register property (days)        IC.PRP.DURS   \n",
              "5656454           Time required to start a business (days)        IC.REG.DURS   \n",
              "5656455              Time to prepare and pay taxes (hours)        IC.TAX.DURS   \n",
              "5656456                 Time to resolve insolvency (years)        IC.ISV.DURS   \n",
              "5656457           Total tax rate (% of commercial profits)  IC.TAX.TOTL.CP.ZS   \n",
              "\n",
              "         Year         Value  \n",
              "0        1960  1.335609e+02  \n",
              "1        1960  8.779760e+01  \n",
              "2        1960  6.634579e+00  \n",
              "3        1960  8.102333e+01  \n",
              "4        1960  3.000000e+06  \n",
              "...       ...           ...  \n",
              "5656453  2015  3.600000e+01  \n",
              "5656454  2015  9.000000e+01  \n",
              "5656455  2015  2.420000e+02  \n",
              "5656456  2015  3.300000e+00  \n",
              "5656457  2015  3.280000e+01  \n",
              "\n",
              "[5656458 rows x 6 columns]"
            ],
            "text/html": [
              "\n",
              "  <div id=\"df-f3251b4a-c4ec-4ea5-bbf3-0da686815245\">\n",
              "    <div class=\"colab-df-container\">\n",
              "      <div>\n",
              "<style scoped>\n",
              "    .dataframe tbody tr th:only-of-type {\n",
              "        vertical-align: middle;\n",
              "    }\n",
              "\n",
              "    .dataframe tbody tr th {\n",
              "        vertical-align: top;\n",
              "    }\n",
              "\n",
              "    .dataframe thead th {\n",
              "        text-align: right;\n",
              "    }\n",
              "</style>\n",
              "<table border=\"1\" class=\"dataframe\">\n",
              "  <thead>\n",
              "    <tr style=\"text-align: right;\">\n",
              "      <th></th>\n",
              "      <th>CountryName</th>\n",
              "      <th>CountryCode</th>\n",
              "      <th>IndicatorName</th>\n",
              "      <th>IndicatorCode</th>\n",
              "      <th>Year</th>\n",
              "      <th>Value</th>\n",
              "    </tr>\n",
              "  </thead>\n",
              "  <tbody>\n",
              "    <tr>\n",
              "      <th>0</th>\n",
              "      <td>Arab World</td>\n",
              "      <td>ARB</td>\n",
              "      <td>Adolescent fertility rate (births per 1,000 wo...</td>\n",
              "      <td>SP.ADO.TFRT</td>\n",
              "      <td>1960</td>\n",
              "      <td>1.335609e+02</td>\n",
              "    </tr>\n",
              "    <tr>\n",
              "      <th>1</th>\n",
              "      <td>Arab World</td>\n",
              "      <td>ARB</td>\n",
              "      <td>Age dependency ratio (% of working-age populat...</td>\n",
              "      <td>SP.POP.DPND</td>\n",
              "      <td>1960</td>\n",
              "      <td>8.779760e+01</td>\n",
              "    </tr>\n",
              "    <tr>\n",
              "      <th>2</th>\n",
              "      <td>Arab World</td>\n",
              "      <td>ARB</td>\n",
              "      <td>Age dependency ratio, old (% of working-age po...</td>\n",
              "      <td>SP.POP.DPND.OL</td>\n",
              "      <td>1960</td>\n",
              "      <td>6.634579e+00</td>\n",
              "    </tr>\n",
              "    <tr>\n",
              "      <th>3</th>\n",
              "      <td>Arab World</td>\n",
              "      <td>ARB</td>\n",
              "      <td>Age dependency ratio, young (% of working-age ...</td>\n",
              "      <td>SP.POP.DPND.YG</td>\n",
              "      <td>1960</td>\n",
              "      <td>8.102333e+01</td>\n",
              "    </tr>\n",
              "    <tr>\n",
              "      <th>4</th>\n",
              "      <td>Arab World</td>\n",
              "      <td>ARB</td>\n",
              "      <td>Arms exports (SIPRI trend indicator values)</td>\n",
              "      <td>MS.MIL.XPRT.KD</td>\n",
              "      <td>1960</td>\n",
              "      <td>3.000000e+06</td>\n",
              "    </tr>\n",
              "    <tr>\n",
              "      <th>...</th>\n",
              "      <td>...</td>\n",
              "      <td>...</td>\n",
              "      <td>...</td>\n",
              "      <td>...</td>\n",
              "      <td>...</td>\n",
              "      <td>...</td>\n",
              "    </tr>\n",
              "    <tr>\n",
              "      <th>5656453</th>\n",
              "      <td>Zimbabwe</td>\n",
              "      <td>ZWE</td>\n",
              "      <td>Time required to register property (days)</td>\n",
              "      <td>IC.PRP.DURS</td>\n",
              "      <td>2015</td>\n",
              "      <td>3.600000e+01</td>\n",
              "    </tr>\n",
              "    <tr>\n",
              "      <th>5656454</th>\n",
              "      <td>Zimbabwe</td>\n",
              "      <td>ZWE</td>\n",
              "      <td>Time required to start a business (days)</td>\n",
              "      <td>IC.REG.DURS</td>\n",
              "      <td>2015</td>\n",
              "      <td>9.000000e+01</td>\n",
              "    </tr>\n",
              "    <tr>\n",
              "      <th>5656455</th>\n",
              "      <td>Zimbabwe</td>\n",
              "      <td>ZWE</td>\n",
              "      <td>Time to prepare and pay taxes (hours)</td>\n",
              "      <td>IC.TAX.DURS</td>\n",
              "      <td>2015</td>\n",
              "      <td>2.420000e+02</td>\n",
              "    </tr>\n",
              "    <tr>\n",
              "      <th>5656456</th>\n",
              "      <td>Zimbabwe</td>\n",
              "      <td>ZWE</td>\n",
              "      <td>Time to resolve insolvency (years)</td>\n",
              "      <td>IC.ISV.DURS</td>\n",
              "      <td>2015</td>\n",
              "      <td>3.300000e+00</td>\n",
              "    </tr>\n",
              "    <tr>\n",
              "      <th>5656457</th>\n",
              "      <td>Zimbabwe</td>\n",
              "      <td>ZWE</td>\n",
              "      <td>Total tax rate (% of commercial profits)</td>\n",
              "      <td>IC.TAX.TOTL.CP.ZS</td>\n",
              "      <td>2015</td>\n",
              "      <td>3.280000e+01</td>\n",
              "    </tr>\n",
              "  </tbody>\n",
              "</table>\n",
              "<p>5656458 rows × 6 columns</p>\n",
              "</div>\n",
              "      <button class=\"colab-df-convert\" onclick=\"convertToInteractive('df-f3251b4a-c4ec-4ea5-bbf3-0da686815245')\"\n",
              "              title=\"Convert this dataframe to an interactive table.\"\n",
              "              style=\"display:none;\">\n",
              "        \n",
              "  <svg xmlns=\"http://www.w3.org/2000/svg\" height=\"24px\"viewBox=\"0 0 24 24\"\n",
              "       width=\"24px\">\n",
              "    <path d=\"M0 0h24v24H0V0z\" fill=\"none\"/>\n",
              "    <path d=\"M18.56 5.44l.94 2.06.94-2.06 2.06-.94-2.06-.94-.94-2.06-.94 2.06-2.06.94zm-11 1L8.5 8.5l.94-2.06 2.06-.94-2.06-.94L8.5 2.5l-.94 2.06-2.06.94zm10 10l.94 2.06.94-2.06 2.06-.94-2.06-.94-.94-2.06-.94 2.06-2.06.94z\"/><path d=\"M17.41 7.96l-1.37-1.37c-.4-.4-.92-.59-1.43-.59-.52 0-1.04.2-1.43.59L10.3 9.45l-7.72 7.72c-.78.78-.78 2.05 0 2.83L4 21.41c.39.39.9.59 1.41.59.51 0 1.02-.2 1.41-.59l7.78-7.78 2.81-2.81c.8-.78.8-2.07 0-2.86zM5.41 20L4 18.59l7.72-7.72 1.47 1.35L5.41 20z\"/>\n",
              "  </svg>\n",
              "      </button>\n",
              "      \n",
              "  <style>\n",
              "    .colab-df-container {\n",
              "      display:flex;\n",
              "      flex-wrap:wrap;\n",
              "      gap: 12px;\n",
              "    }\n",
              "\n",
              "    .colab-df-convert {\n",
              "      background-color: #E8F0FE;\n",
              "      border: none;\n",
              "      border-radius: 50%;\n",
              "      cursor: pointer;\n",
              "      display: none;\n",
              "      fill: #1967D2;\n",
              "      height: 32px;\n",
              "      padding: 0 0 0 0;\n",
              "      width: 32px;\n",
              "    }\n",
              "\n",
              "    .colab-df-convert:hover {\n",
              "      background-color: #E2EBFA;\n",
              "      box-shadow: 0px 1px 2px rgba(60, 64, 67, 0.3), 0px 1px 3px 1px rgba(60, 64, 67, 0.15);\n",
              "      fill: #174EA6;\n",
              "    }\n",
              "\n",
              "    [theme=dark] .colab-df-convert {\n",
              "      background-color: #3B4455;\n",
              "      fill: #D2E3FC;\n",
              "    }\n",
              "\n",
              "    [theme=dark] .colab-df-convert:hover {\n",
              "      background-color: #434B5C;\n",
              "      box-shadow: 0px 1px 3px 1px rgba(0, 0, 0, 0.15);\n",
              "      filter: drop-shadow(0px 1px 2px rgba(0, 0, 0, 0.3));\n",
              "      fill: #FFFFFF;\n",
              "    }\n",
              "  </style>\n",
              "\n",
              "      <script>\n",
              "        const buttonEl =\n",
              "          document.querySelector('#df-f3251b4a-c4ec-4ea5-bbf3-0da686815245 button.colab-df-convert');\n",
              "        buttonEl.style.display =\n",
              "          google.colab.kernel.accessAllowed ? 'block' : 'none';\n",
              "\n",
              "        async function convertToInteractive(key) {\n",
              "          const element = document.querySelector('#df-f3251b4a-c4ec-4ea5-bbf3-0da686815245');\n",
              "          const dataTable =\n",
              "            await google.colab.kernel.invokeFunction('convertToInteractive',\n",
              "                                                     [key], {});\n",
              "          if (!dataTable) return;\n",
              "\n",
              "          const docLinkHtml = 'Like what you see? Visit the ' +\n",
              "            '<a target=\"_blank\" href=https://colab.research.google.com/notebooks/data_table.ipynb>data table notebook</a>'\n",
              "            + ' to learn more about interactive tables.';\n",
              "          element.innerHTML = '';\n",
              "          dataTable['output_type'] = 'display_data';\n",
              "          await google.colab.output.renderOutput(dataTable, element);\n",
              "          const docLink = document.createElement('div');\n",
              "          docLink.innerHTML = docLinkHtml;\n",
              "          element.appendChild(docLink);\n",
              "        }\n",
              "      </script>\n",
              "    </div>\n",
              "  </div>\n",
              "  "
            ]
          },
          "metadata": {},
          "execution_count": 18
        }
      ]
    },
    {
      "cell_type": "markdown",
      "source": [
        "#Data cleaning"
      ],
      "metadata": {
        "id": "cWqnMlT-fWwA"
      }
    },
    {
      "cell_type": "code",
      "source": [
        "# Check for missing values in the dataset\n",
        "print('Missing values:\\n', df.isnull().sum())"
      ],
      "metadata": {
        "colab": {
          "base_uri": "https://localhost:8080/"
        },
        "id": "x7QVke5EsEwB",
        "outputId": "125a5a6e-92e8-49be-e589-2df94e03d33e"
      },
      "execution_count": 21,
      "outputs": [
        {
          "output_type": "stream",
          "name": "stdout",
          "text": [
            "Missing values:\n",
            " CountryName      0\n",
            "CountryCode      0\n",
            "IndicatorName    0\n",
            "IndicatorCode    0\n",
            "Year             0\n",
            "Value            0\n",
            "dtype: int64\n"
          ]
        }
      ]
    },
    {
      "cell_type": "code",
      "source": [
        "# Check for Duplicated values in the dataset\n",
        "print('Duplicated values:\\n', df.duplicated().sum())"
      ],
      "metadata": {
        "id": "P6dKXLR9fc__",
        "outputId": "e67d2bbe-7364-46ca-f1a1-f59196dc31d5",
        "colab": {
          "base_uri": "https://localhost:8080/"
        }
      },
      "execution_count": 22,
      "outputs": [
        {
          "output_type": "stream",
          "name": "stdout",
          "text": [
            "Duplicated values:\n",
            " 0\n"
          ]
        }
      ]
    },
    {
      "cell_type": "markdown",
      "source": [
        "#Data Exploration"
      ],
      "metadata": {
        "id": "wCOkitvIfzjt"
      }
    },
    {
      "cell_type": "code",
      "source": [
        "df.info()"
      ],
      "metadata": {
        "id": "pGP72knFfxgc",
        "outputId": "62f27d67-11d4-48d4-b9f5-2f612cf35ee4",
        "colab": {
          "base_uri": "https://localhost:8080/"
        }
      },
      "execution_count": 20,
      "outputs": [
        {
          "output_type": "stream",
          "name": "stdout",
          "text": [
            "<class 'pandas.core.frame.DataFrame'>\n",
            "RangeIndex: 5656458 entries, 0 to 5656457\n",
            "Data columns (total 6 columns):\n",
            " #   Column         Dtype  \n",
            "---  ------         -----  \n",
            " 0   CountryName    object \n",
            " 1   CountryCode    object \n",
            " 2   IndicatorName  object \n",
            " 3   IndicatorCode  object \n",
            " 4   Year           int64  \n",
            " 5   Value          float64\n",
            "dtypes: float64(1), int64(1), object(4)\n",
            "memory usage: 258.9+ MB\n"
          ]
        }
      ]
    },
    {
      "cell_type": "code",
      "source": [
        "# Check the columns of the dataset\n",
        "print('Columns:',df.columns)\n",
        "\n",
        "# Check the shape of the dataset\n",
        "print('Shape:', df.shape)\n",
        "\n",
        "# Check the first few rows of the dataset\n",
        "print('Head:\\n', df.head())\n",
        "\n",
        "# Check the data types of the columns\n",
        "print('Data types:\\n', df.dtypes)\n",
        "\n",
        "# Check basic statistics of the numerical columns\n",
        "print('Summary statistics:\\n', df.describe())"
      ],
      "metadata": {
        "colab": {
          "base_uri": "https://localhost:8080/"
        },
        "id": "RFRZzbsTwXCN",
        "outputId": "f2043117-0a9c-428d-ec2a-2cf0164205dc"
      },
      "execution_count": 23,
      "outputs": [
        {
          "output_type": "stream",
          "name": "stdout",
          "text": [
            "Columns: Index(['CountryName', 'CountryCode', 'IndicatorName', 'IndicatorCode', 'Year',\n",
            "       'Value'],\n",
            "      dtype='object')\n",
            "Shape: (5656458, 6)\n",
            "Head:\n",
            "   CountryName CountryCode                                      IndicatorName  \\\n",
            "0  Arab World         ARB  Adolescent fertility rate (births per 1,000 wo...   \n",
            "1  Arab World         ARB  Age dependency ratio (% of working-age populat...   \n",
            "2  Arab World         ARB  Age dependency ratio, old (% of working-age po...   \n",
            "3  Arab World         ARB  Age dependency ratio, young (% of working-age ...   \n",
            "4  Arab World         ARB        Arms exports (SIPRI trend indicator values)   \n",
            "\n",
            "    IndicatorCode  Year         Value  \n",
            "0     SP.ADO.TFRT  1960  1.335609e+02  \n",
            "1     SP.POP.DPND  1960  8.779760e+01  \n",
            "2  SP.POP.DPND.OL  1960  6.634579e+00  \n",
            "3  SP.POP.DPND.YG  1960  8.102333e+01  \n",
            "4  MS.MIL.XPRT.KD  1960  3.000000e+06  \n",
            "Data types:\n",
            " CountryName       object\n",
            "CountryCode       object\n",
            "IndicatorName     object\n",
            "IndicatorCode     object\n",
            "Year               int64\n",
            "Value            float64\n",
            "dtype: object\n",
            "Summary statistics:\n",
            "                Year         Value\n",
            "count  5.656458e+06  5.656458e+06\n",
            "mean   1.994464e+03  1.070501e+12\n",
            "std    1.387895e+01  4.842469e+13\n",
            "min    1.960000e+03 -9.824821e+15\n",
            "25%    1.984000e+03  5.566242e+00\n",
            "50%    1.997000e+03  6.357450e+01\n",
            "75%    2.006000e+03  1.346722e+07\n",
            "max    2.015000e+03  1.103367e+16\n"
          ]
        }
      ]
    },
    {
      "cell_type": "code",
      "source": [
        "# How many unique country codes and indicator names are there ? \n",
        "countries = df['CountryCode'].unique().tolist()\n",
        "indicators = df['IndicatorName'].unique().tolist()\n",
        "print('How many unique country codes and indicator names are there?')\n",
        "print('Contries size: %d' % len(countries))\n",
        "print('Indicators size: %d' % len(indicators))"
      ],
      "metadata": {
        "colab": {
          "base_uri": "https://localhost:8080/"
        },
        "id": "uEMcs8TQwje-",
        "outputId": "d0046338-5536-40cd-e21e-9a9e4600f7b1"
      },
      "execution_count": 7,
      "outputs": [
        {
          "output_type": "stream",
          "name": "stdout",
          "text": [
            "How many unique country codes and indicator names are there?\n",
            "Contries size: 247\n",
            "Indicators size: 1344\n"
          ]
        }
      ]
    },
    {
      "cell_type": "code",
      "source": [
        "# How many unique Years are there ? \n",
        "Year = df['Year'].unique().tolist()\n",
        "print('Year size: %d' % len(Year))\n",
        "print('Years list:',Year)"
      ],
      "metadata": {
        "id": "h3mhaX2hgivw",
        "outputId": "434b2c07-2571-4c7c-d114-d0bd72251313",
        "colab": {
          "base_uri": "https://localhost:8080/"
        }
      },
      "execution_count": 27,
      "outputs": [
        {
          "output_type": "stream",
          "name": "stdout",
          "text": [
            "Year size: 56\n",
            "Years list: [1960, 1961, 1962, 1963, 1964, 1965, 1966, 1967, 1968, 1969, 1970, 1971, 1972, 1973, 1974, 1975, 1976, 1977, 1978, 1979, 1980, 1981, 1982, 1983, 1984, 1985, 1986, 1987, 1988, 1989, 1990, 1991, 1992, 1993, 1994, 1995, 1996, 1997, 1998, 1999, 2000, 2001, 2002, 2003, 2004, 2005, 2006, 2007, 2008, 2009, 2010, 2011, 2012, 2013, 2014, 2015]\n"
          ]
        }
      ]
    },
    {
      "cell_type": "code",
      "source": [
        "# Select two indicators for which you want to compute the correlation\n",
        "indicator1 = 'SP.DYN.LE00.IN'  # Life expectancy at birth, total (years)\n",
        "indicator2 = 'NY.GDP.PCAP.CD'  # GDP per capita (current US$)\n",
        "\n",
        "# Subset the data to include only the relevant indicators\n",
        "subset = df.loc[df['IndicatorCode'].isin([indicator1, indicator2])]\n",
        "\n",
        "# Pivot the data to have indicators as columns and countries as rows\n",
        "subset = subset.drop_duplicates(['CountryCode', 'IndicatorCode'])\n",
        "pivoted = subset.pivot(index='CountryCode', columns='IndicatorCode', values='Value')\n",
        "\n",
        "# Compute the correlation between the two indicators\n",
        "corr = pivoted.corr().loc[indicator1, indicator2]\n",
        "\n",
        "print(f\"The correlation between {indicator1} and {indicator2} is {corr:.2f}\")"
      ],
      "metadata": {
        "colab": {
          "base_uri": "https://localhost:8080/"
        },
        "id": "cQvydE1cCr1s",
        "outputId": "48c357ed-d38d-4d14-af0e-e3b5181ab959"
      },
      "execution_count": 8,
      "outputs": [
        {
          "output_type": "stream",
          "name": "stdout",
          "text": [
            "The correlation between SP.DYN.LE00.IN and NY.GDP.PCAP.CD is 0.30\n"
          ]
        }
      ]
    },
    {
      "cell_type": "markdown",
      "source": [
        "In this case, a correlation coefficient of 0.30 suggests a weak positive correlation between life expectancy and GDP per capita, but it's important to keep in mind that correlation does not imply causation."
      ],
      "metadata": {
        "id": "FNR_g1okEKyn"
      }
    },
    {
      "cell_type": "code",
      "source": [
        "subset = df[df['IndicatorName'].str.contains('poverty|access to improved|completion rate|unemployment|income share')]"
      ],
      "metadata": {
        "id": "6JxFoBkFEL-s"
      },
      "execution_count": 9,
      "outputs": []
    },
    {
      "cell_type": "code",
      "source": [
        "import matplotlib.pyplot as plt\n",
        "plt.scatter(subset[subset['IndicatorCode']=='SI.POV.DDAY']['Value'], \n",
        "            subset[subset['IndicatorCode']=='SH.H2O.SAFE.ZS']['Value'])\n",
        "plt.xlabel('Poverty headcount ratio')\n",
        "plt.ylabel('Access to improved water sources')\n",
        "plt.title('Relationship between poverty and access to water')\n",
        "plt.show()"
      ],
      "metadata": {
        "id": "Vaoa27PwFprd"
      },
      "execution_count": null,
      "outputs": []
    },
    {
      "cell_type": "code",
      "source": [
        "corr = subset[subset['IndicatorCode'].isin(['SI.POV.DDAY', 'SH.H2O.SAFE.ZS'])].pivot(index='CountryCode', columns='IndicatorCode', values='Value').corr().iloc[0,1]\n",
        "print('Correlation between poverty and access to water:', corr)"
      ],
      "metadata": {
        "id": "LTSYfJbjFwwM"
      },
      "execution_count": null,
      "outputs": []
    },
    {
      "cell_type": "code",
      "source": [
        "from sklearn.linear_model import LogisticRegression\n",
        "from sklearn.model_selection import train_test_split\n",
        "from sklearn.metrics import accuracy_score\n",
        "\n",
        "# Split the data into training and test sets\n",
        "X_train, X_test, y_train, y_test = train_test_split(subset.drop(['CountryName', 'CountryCode', 'IndicatorName', 'Year', 'Value'], axis=1), \n",
        "                                                    subset[subset['IndicatorCode']=='SI.POV.DDAY']['Value'], \n",
        "                                                    test_size=0.2, random_state=42)\n",
        "\n",
        "# Train a logistic regression model\n",
        "model = LogisticRegression()\n",
        "model.fit(X_train, y_train)\n",
        "\n",
        "# Make predictions on the test set\n",
        "y_pred = model.predict(X_test)\n",
        "\n",
        "# Evaluate the model accuracy\n",
        "accuracy = accuracy_score(y_test, y_pred)\n",
        "print('Model accuracy:', accuracy)"
      ],
      "metadata": {
        "id": "zg71UOqeF4QL"
      },
      "execution_count": null,
      "outputs": []
    },
    {
      "cell_type": "code",
      "source": [
        "subset = df[df['IndicatorName'].str.contains('poverty|access to improved|completion rate|unemployment|income share')]\n",
        "\n",
        "import matplotlib.pyplot as plt\n",
        "plt.scatter(subset[subset['IndicatorCode']=='SI.POV.DDAY']['Value'], \n",
        "            subset[subset['IndicatorCode']=='SH.H2O.SAFE.ZS']['Value'])\n",
        "plt.xlabel('Poverty headcount ratio')\n",
        "plt.ylabel('Access to improved water sources')\n",
        "plt.title('Relationship between poverty and access to water')\n",
        "plt.show()\n",
        "\n",
        "corr = subset[subset['IndicatorCode'].isin(['SI.POV.DDAY', 'SH.H2O.SAFE.ZS'])].pivot(index='CountryCode', columns='IndicatorCode', values='Value').corr().iloc[0,1]\n",
        "print('Correlation between poverty and access to water:', corr)"
      ],
      "metadata": {
        "id": "k-ZvFa36Hd4o"
      },
      "execution_count": null,
      "outputs": []
    },
    {
      "cell_type": "code",
      "source": [
        "corr = subset[subset['IndicatorCode'].isin(['SI.POV.DDAY', 'SH.STA.SMSS.ZS'])].pivot(index='CountryCode', columns='IndicatorCode', values='Value').corr().iloc[0,1]\n",
        "print('Correlation between poverty and access to improved sanitation facilities:', corr)"
      ],
      "metadata": {
        "id": "qSCfkvRsH_5f"
      },
      "execution_count": null,
      "outputs": []
    },
    {
      "cell_type": "code",
      "source": [
        "corr = subset[subset['IndicatorCode'].isin(['SL.UEM.TOTL.ZS', 'SE.PRM.CMPT.ZS'])].pivot(index='CountryCode', columns='IndicatorCode', values='Value').corr().iloc[0,1]\n",
        "print('Correlation between unemployment rate and completion rate for primary education:', corr)"
      ],
      "metadata": {
        "id": "as6lcCprIHAx"
      },
      "execution_count": null,
      "outputs": []
    }
  ]
}